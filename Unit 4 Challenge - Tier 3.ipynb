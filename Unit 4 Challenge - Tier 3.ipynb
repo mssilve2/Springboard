{
 "cells": [
  {
   "cell_type": "markdown",
   "metadata": {
    "colab_type": "text",
    "id": "Tia3MP1SJpgj"
   },
   "source": [
    "# Springboard Data Science Career Track Unit 4 Challenge - Tier 3 Complete\n",
    "\n",
    "## Objectives\n",
    "Hey! Great job getting through those challenging DataCamp courses. You're learning a lot in a short span of time. \n",
    "\n",
    "In this notebook, you're going to apply the skills you've been learning, bridging the gap between the controlled environment of DataCamp and the *slightly* messier work that data scientists do with actual datasets!\n",
    "\n",
    "Here’s the mystery we’re going to solve: ***which boroughs of London have seen the greatest increase in housing prices, on average, over the last two decades?***\n",
    "\n",
    "\n",
    "A borough is just a fancy word for district. You may be familiar with the five boroughs of New York… well, there are 32 boroughs within Greater London [(here's some info for the curious)](https://en.wikipedia.org/wiki/London_boroughs). Some of them are more desirable areas to live in, and the data will reflect that with a greater rise in housing prices.\n",
    "\n",
    "***This is the Tier 3 notebook, which means it's not filled in at all: we'll just give you the skeleton of a project, the brief and the data. It's up to you to play around with it and see what you can find out! Good luck! If you struggle, feel free to look at easier tiers for help; but try to dip in and out of them, as the more independent work you do, the better it is for your learning!***\n",
    "\n",
    "This challenge will make use of only what you learned in the following DataCamp courses: \n",
    "- Prework courses (Introduction to Python for Data Science, Intermediate Python for Data Science)\n",
    "- Data Types for Data Science\n",
    "- Python Data Science Toolbox (Part One) \n",
    "- pandas Foundations\n",
    "- Manipulating DataFrames with pandas\n",
    "- Merging DataFrames with pandas\n",
    "\n",
    "Of the tools, techniques and concepts in the above DataCamp courses, this challenge should require the application of the following: \n",
    "- **pandas**\n",
    "    - **data ingestion and inspection** (pandas Foundations, Module One) \n",
    "    - **exploratory data analysis** (pandas Foundations, Module Two)\n",
    "    - **tidying and cleaning** (Manipulating DataFrames with pandas, Module Three) \n",
    "    - **transforming DataFrames** (Manipulating DataFrames with pandas, Module One)\n",
    "    - **subsetting DataFrames with lists** (Manipulating DataFrames with pandas, Module One) \n",
    "    - **filtering DataFrames** (Manipulating DataFrames with pandas, Module One) \n",
    "    - **grouping data** (Manipulating DataFrames with pandas, Module Four) \n",
    "    - **melting data** (Manipulating DataFrames with pandas, Module Three) \n",
    "    - **advanced indexing** (Manipulating DataFrames with pandas, Module Four) \n",
    "- **matplotlib** (Intermediate Python for Data Science, Module One)\n",
    "- **fundamental data types** (Data Types for Data Science, Module One) \n",
    "- **dictionaries** (Intermediate Python for Data Science, Module Two)\n",
    "- **handling dates and times** (Data Types for Data Science, Module Four)\n",
    "- **function definition** (Python Data Science Toolbox - Part One, Module One)\n",
    "- **default arguments, variable length, and scope** (Python Data Science Toolbox - Part One, Module Two) \n",
    "- **lambda functions and error handling** (Python Data Science Toolbox - Part One, Module Four) "
   ]
  },
  {
   "cell_type": "markdown",
   "metadata": {
    "colab_type": "text",
    "id": "Ipgd2nV8Jpgl"
   },
   "source": [
    "## The Data Science Pipeline\n",
    "\n",
    "This is Tier Three, so we'll get you started. But after that, it's all in your hands! When you feel done with your investigations, look back over what you've accomplished, and prepare a quick presentation of your findings for the next mentor meeting. \n",
    "\n",
    "Data Science is magical. In this case study, you'll get to apply some complex machine learning algorithms. But as  [David Spiegelhalter](https://www.youtube.com/watch?v=oUs1uvsz0Ok) reminds us, there is no substitute for simply **taking a really, really good look at the data.** Sometimes, this is all we need to answer our question.\n",
    "\n",
    "Data Science projects generally adhere to the four stages of Data Science Pipeline:\n",
    "1. Sourcing and loading \n",
    "2. Cleaning, transforming, and visualizing \n",
    "3. Modeling \n",
    "4. Evaluating and concluding \n"
   ]
  },
  {
   "cell_type": "markdown",
   "metadata": {
    "colab_type": "text",
    "id": "zswDqbefJpgm"
   },
   "source": [
    "### 1. Sourcing and Loading \n",
    "\n",
    "Any Data Science project kicks off by importing  ***pandas***. The documentation of this wonderful library can be found [here](https://pandas.pydata.org/). As you've seen, pandas is conveniently connected to the [Numpy](http://www.numpy.org/) and [Matplotlib](https://matplotlib.org/) libraries. \n",
    "\n",
    "***Hint:*** This part of the data science pipeline will test those skills you acquired in the pandas Foundations course, Module One. "
   ]
  },
  {
   "cell_type": "markdown",
   "metadata": {
    "colab_type": "text",
    "id": "aEau5nEvJpgm"
   },
   "source": [
    "#### 1.1. Importing Libraries"
   ]
  },
  {
   "cell_type": "code",
   "execution_count": 1,
   "metadata": {
    "colab": {},
    "colab_type": "code",
    "id": "7Bt_Q_oPJpgn"
   },
   "outputs": [],
   "source": [
    "# Let's import the pandas, numpy libraries as pd, and np respectively. \n",
    "import pandas as pd\n",
    "import numpy as np\n",
    "\n",
    "# Load the pyplot collection of functions from matplotlib, as plt \n",
    "from matplotlib import pyplot as plt"
   ]
  },
  {
   "cell_type": "markdown",
   "metadata": {
    "colab_type": "text",
    "id": "koUrawxsJpgq"
   },
   "source": [
    "#### 1.2.  Loading the data\n",
    "Your data comes from the [London Datastore](https://data.london.gov.uk/): a free, open-source data-sharing portal for London-oriented datasets. "
   ]
  },
  {
   "cell_type": "code",
   "execution_count": 2,
   "metadata": {
    "colab": {},
    "colab_type": "code",
    "id": "AiLiD4v3Jpgr"
   },
   "outputs": [],
   "source": [
    "# First, make a variable called url_LondonHousePrices, and assign it the following link, enclosed in quotation-marks as a string:\n",
    "# https://data.london.gov.uk/download/uk-house-price-index/70ac0766-8902-4eb5-aab5-01951aaed773/UK%20House%20price%20index.xls\n",
    "\n",
    "url_LondonHousePrices = \"https://data.london.gov.uk/download/uk-house-price-index/70ac0766-8902-4eb5-aab5-01951aaed773/UK%20House%20price%20index.xls\"\n",
    "\n",
    "# The dataset we're interested in contains the Average prices of the houses, and is actually on a particular sheet of the Excel file. \n",
    "# As a result, we need to specify the sheet name in the read_excel() method.\n",
    "# Put this data into a variable called properties.  \n",
    "properties = pd.read_excel(url_LondonHousePrices, sheet_name='Average price', index_col= None)"
   ]
  },
  {
   "cell_type": "markdown",
   "metadata": {
    "colab_type": "text",
    "id": "POukEJXgJpgu"
   },
   "source": [
    "### 2. Cleaning, transforming, and visualizing\n",
    "This second stage is arguably the most important part of any Data Science project. The first thing to do is take a proper look at the data. Cleaning forms the majority of this stage, and can be done both before or after Transformation.\n",
    "\n",
    "The end goal of data cleaning is to have tidy data. When data is tidy: \n",
    "\n",
    "1. Each variable has a column.\n",
    "2. Each observation forms a row.\n",
    "\n",
    "Keep the end goal in mind as you move through this process, every step will take you closer. \n",
    "\n",
    "\n",
    "\n",
    "***Hint:*** This part of the data science pipeline should test those skills you acquired in: \n",
    "- Intermediate Python for data science, all modules.\n",
    "- pandas Foundations, all modules. \n",
    "- Manipulating DataFrames with pandas, all modules.\n",
    "- Data Types for Data Science, Module Four.\n",
    "- Python Data Science Toolbox - Part One, all modules"
   ]
  },
  {
   "cell_type": "markdown",
   "metadata": {
    "colab_type": "text",
    "id": "Te0Q548tnzZa"
   },
   "source": [
    "**2.1. Exploring your data** \n",
    "\n",
    "Think about your pandas functions for checking out a dataframe. "
   ]
  },
  {
   "cell_type": "code",
   "execution_count": 3,
   "metadata": {
    "colab": {},
    "colab_type": "code",
    "id": "Rxirxw_qoAJa",
    "scrolled": true
   },
   "outputs": [
    {
     "name": "stdout",
     "output_type": "stream",
     "text": [
      "  Unnamed: 0 City of London Barking & Dagenham       Barnet       Bexley  \\\n",
      "0        NaT      E09000001          E09000002    E09000003    E09000004   \n",
      "1 1995-01-01    91448.98487         50460.2266  93284.51832  64958.09036   \n",
      "2 1995-02-01    82202.77314        51085.77983  93190.16963  64787.92069   \n",
      "3 1995-03-01    79120.70256        51268.96956  92247.52435  64367.49344   \n",
      "4 1995-04-01    77101.20804        53133.50526  90762.87492  64277.66881   \n",
      "\n",
      "         Brent      Bromley       Camden      Croydon       Ealing  ...  \\\n",
      "0    E09000005    E09000006    E09000007    E09000008    E09000009  ...   \n",
      "1  71306.56698  81671.47692  120932.8881  69158.16225  79885.89069  ...   \n",
      "2  72022.26197  81657.55944  119508.8622  68951.09542  80897.06551  ...   \n",
      "3  72015.76274  81449.31143  120282.2131  68712.44341  81379.86288  ...   \n",
      "4  72965.63094  81124.41227   120097.899  68610.04641  82188.90498  ...   \n",
      "\n",
      "    NORTH WEST YORKS & THE HUMBER EAST MIDLANDS WEST MIDLANDS EAST OF ENGLAND  \\\n",
      "0    E12000002          E12000003     E12000004     E12000005       E12000006   \n",
      "1  43958.48001        44803.42878   45544.52227   48527.52339      56701.5961   \n",
      "2  43925.42289        44528.80721   46051.57066   49341.29029     56593.59475   \n",
      "3   44434.8681        45200.46775   45383.82395   49442.17973     56171.18278   \n",
      "4   44267.7796        45614.34341   46124.23045   49455.93299     56567.89582   \n",
      "\n",
      "        LONDON   SOUTH EAST   SOUTH WEST Unnamed: 47      England  \n",
      "0    E12000007    E12000008    E12000009         NaN    E92000001  \n",
      "1  74435.76052  64018.87894   54705.1579         NaN  53202.77128  \n",
      "2  72777.93709  63715.02399  54356.14843         NaN   53096.1549  \n",
      "3  73896.84204  64113.60858  53583.07667         NaN   53201.2843  \n",
      "4  74455.28754  64623.22395  54786.01938         NaN   53590.8548  \n",
      "\n",
      "[5 rows x 49 columns]\n",
      "(322, 49)\n",
      "Index(['Unnamed: 0', 'City of London', 'Barking & Dagenham', 'Barnet',\n",
      "       'Bexley', 'Brent', 'Bromley', 'Camden', 'Croydon', 'Ealing', 'Enfield',\n",
      "       'Greenwich', 'Hackney', 'Hammersmith & Fulham', 'Haringey', 'Harrow',\n",
      "       'Havering', 'Hillingdon', 'Hounslow', 'Islington',\n",
      "       'Kensington & Chelsea', 'Kingston upon Thames', 'Lambeth', 'Lewisham',\n",
      "       'Merton', 'Newham', 'Redbridge', 'Richmond upon Thames', 'Southwark',\n",
      "       'Sutton', 'Tower Hamlets', 'Waltham Forest', 'Wandsworth',\n",
      "       'Westminster', 'Unnamed: 34', 'Inner London', 'Outer London',\n",
      "       'Unnamed: 37', 'NORTH EAST', 'NORTH WEST', 'YORKS & THE HUMBER',\n",
      "       'EAST MIDLANDS', 'WEST MIDLANDS', 'EAST OF ENGLAND', 'LONDON',\n",
      "       'SOUTH EAST', 'SOUTH WEST', 'Unnamed: 47', 'England'],\n",
      "      dtype='object')\n",
      "RangeIndex(start=0, stop=322, step=1)\n"
     ]
    }
   ],
   "source": [
    "print(properties.head())\n",
    "print(properties.shape)\n",
    "print(properties.columns)\n",
    "print(properties.index)"
   ]
  },
  {
   "cell_type": "markdown",
   "metadata": {
    "colab_type": "text",
    "id": "tE9Sqt9-oAta"
   },
   "source": [
    "**2.2. Cleaning the data**\n",
    "\n",
    "You might find you need to transpose your dataframe, check out what its row indexes are, and reset the index. You  also might find you need to assign the values of the first row to your column headings  . (Hint: recall the .columns feature of DataFrames, as well as the iloc[] method).\n",
    "\n",
    "Don't be afraid to use StackOverflow for help  with this."
   ]
  },
  {
   "cell_type": "code",
   "execution_count": 4,
   "metadata": {
    "colab": {},
    "colab_type": "code",
    "id": "cdAu1A3YoH_r"
   },
   "outputs": [
    {
     "name": "stdout",
     "output_type": "stream",
     "text": [
      "Index(['Unnamed: 0', 'City of London', 'Barking & Dagenham', 'Barnet',\n",
      "       'Bexley', 'Brent', 'Bromley', 'Camden', 'Croydon', 'Ealing', 'Enfield',\n",
      "       'Greenwich', 'Hackney', 'Hammersmith & Fulham', 'Haringey', 'Harrow',\n",
      "       'Havering', 'Hillingdon', 'Hounslow', 'Islington',\n",
      "       'Kensington & Chelsea', 'Kingston upon Thames', 'Lambeth', 'Lewisham',\n",
      "       'Merton', 'Newham', 'Redbridge', 'Richmond upon Thames', 'Southwark',\n",
      "       'Sutton', 'Tower Hamlets', 'Waltham Forest', 'Wandsworth',\n",
      "       'Westminster', 'Unnamed: 34', 'Inner London', 'Outer London',\n",
      "       'Unnamed: 37', 'NORTH EAST', 'NORTH WEST', 'YORKS & THE HUMBER',\n",
      "       'EAST MIDLANDS', 'WEST MIDLANDS', 'EAST OF ENGLAND', 'LONDON',\n",
      "       'SOUTH EAST', 'SOUTH WEST', 'Unnamed: 47', 'England'],\n",
      "      dtype='object')\n",
      "Index(['Unnamed: 0', 'City of London', 'Barking & Dagenham', 'Barnet',\n",
      "       'Bexley', 'Brent', 'Bromley', 'Camden', 'Croydon', 'Ealing', 'Enfield',\n",
      "       'Greenwich', 'Hackney', 'Hammersmith & Fulham', 'Haringey', 'Harrow',\n",
      "       'Havering', 'Hillingdon', 'Hounslow', 'Islington',\n",
      "       'Kensington & Chelsea', 'Kingston upon Thames', 'Lambeth', 'Lewisham',\n",
      "       'Merton', 'Newham', 'Redbridge', 'Richmond upon Thames', 'Southwark',\n",
      "       'Sutton', 'Tower Hamlets', 'Waltham Forest', 'Wandsworth',\n",
      "       'Westminster', 'Unnamed: 34', 'Inner London', 'Outer London',\n",
      "       'Unnamed: 37', 'NORTH EAST', 'NORTH WEST', 'YORKS & THE HUMBER',\n",
      "       'EAST MIDLANDS', 'WEST MIDLANDS', 'EAST OF ENGLAND', 'LONDON',\n",
      "       'SOUTH EAST', 'SOUTH WEST', 'Unnamed: 47', 'England'],\n",
      "      dtype='object')\n",
      "0          Unnamed: 0        NaN 1995-01-01 00:00:00 1995-02-01 00:00:00  \\\n",
      "1      City of London  E09000001         91448.98487         82202.77314   \n",
      "2  Barking & Dagenham  E09000002          50460.2266         51085.77983   \n",
      "3              Barnet  E09000003         93284.51832         93190.16963   \n",
      "4              Bexley  E09000004         64958.09036         64787.92069   \n",
      "5               Brent  E09000005         71306.56698         72022.26197   \n",
      "\n",
      "0 1995-03-01 00:00:00 1995-04-01 00:00:00 1995-05-01 00:00:00  \\\n",
      "1         79120.70256         77101.20804         84409.14932   \n",
      "2         51268.96956         53133.50526         53042.24852   \n",
      "3         92247.52435         90762.87492         90258.00033   \n",
      "4         64367.49344         64277.66881         63997.13588   \n",
      "5         72015.76274         72965.63094         73704.04743   \n",
      "\n",
      "0 1995-06-01 00:00:00 1995-07-01 00:00:00 1995-08-01 00:00:00  ...  \\\n",
      "1         94900.51244         110128.0423         112329.4376  ...   \n",
      "2         53700.34831         52113.12157         52232.19868  ...   \n",
      "3         90107.23471         91441.24768         92361.31512  ...   \n",
      "4         64252.32335         63722.70055         64432.60005  ...   \n",
      "5         74310.48167         74127.03788          73547.0411  ...   \n",
      "\n",
      "0 2020-12-01 00:00:00 2021-01-01 00:00:00 2021-02-01 00:00:00  \\\n",
      "1         801999.0466         754194.0982         725011.1264   \n",
      "2         309560.1023         312470.4977         315749.3442   \n",
      "3         532528.0926         538683.8133         537171.1625   \n",
      "4         352260.8385         355756.7322         359323.8616   \n",
      "5         495066.6459         514525.2307         516500.5723   \n",
      "\n",
      "0 2021-03-01 00:00:00 2021-04-01 00:00:00 2021-05-01 00:00:00  \\\n",
      "1         719703.4989         728496.7198         720954.3631   \n",
      "2         312381.5975         313131.2516         312430.6526   \n",
      "3         537972.6322          530778.403         533319.3495   \n",
      "4         361782.2198         362053.2197         361919.1777   \n",
      "5         520406.5733         502074.0621         506917.3065   \n",
      "\n",
      "0 2021-06-01 00:00:00 2021-07-01 00:00:00 2021-08-01 00:00:00  \\\n",
      "1         729878.6878                   -                   -   \n",
      "2         317234.7354         319549.9296         322496.3752   \n",
      "3         541296.7827         536012.6687         544558.8072   \n",
      "4         364464.1865         366451.6388         373547.2951   \n",
      "5         514055.8987         528684.0547         533696.3904   \n",
      "\n",
      "0 2021-09-01 00:00:00  \n",
      "1                   -  \n",
      "2         329287.2922  \n",
      "3          533093.293  \n",
      "4          375156.155  \n",
      "5         542095.3343  \n",
      "\n",
      "[5 rows x 323 columns]\n"
     ]
    }
   ],
   "source": [
    "##Drop three empty columns: 34, , 37, 47\n",
    "#properties.drop(properties.iloc[:, [34, 37, 47]], axis=1, inplace=True)\n",
    "print(properties.columns)\n",
    "\n",
    "#Columns of interest: time (year/month), average price (value), burough, id\n",
    "#Two of these are currently serving as column headers, so we should transpose\n",
    "\n",
    "properties_t = properties.T\n",
    "print(properties_t.index)\n",
    "#Also reset index\n",
    "properties_t = properties_t.reset_index()\n",
    "\n",
    "#Set column names as first row of datafram\n",
    "properties_t.columns = properties_t.iloc[0]\n",
    "properties_t.drop(index = 0, inplace=True)\n",
    "\n",
    "print(properties_t.head())"
   ]
  },
  {
   "cell_type": "markdown",
   "metadata": {
    "colab_type": "text",
    "id": "o1uLbJAsoIjK"
   },
   "source": [
    "**2.3. Cleaning the data (part 2)**\n",
    "\n",
    "You might we have to **rename** a couple columns. How do you do this? The clue's pretty bold..."
   ]
  },
  {
   "cell_type": "code",
   "execution_count": 5,
   "metadata": {
    "colab": {},
    "colab_type": "code",
    "id": "GKkmn1AnoVZS"
   },
   "outputs": [
    {
     "name": "stdout",
     "output_type": "stream",
     "text": [
      "Index([   'London Borough',                'ID', 1995-01-01 00:00:00,\n",
      "       1995-02-01 00:00:00, 1995-03-01 00:00:00, 1995-04-01 00:00:00,\n",
      "       1995-05-01 00:00:00, 1995-06-01 00:00:00, 1995-07-01 00:00:00,\n",
      "       1995-08-01 00:00:00,\n",
      "       ...\n",
      "       2020-12-01 00:00:00, 2021-01-01 00:00:00, 2021-02-01 00:00:00,\n",
      "       2021-03-01 00:00:00, 2021-04-01 00:00:00, 2021-05-01 00:00:00,\n",
      "       2021-06-01 00:00:00, 2021-07-01 00:00:00, 2021-08-01 00:00:00,\n",
      "       2021-09-01 00:00:00],\n",
      "      dtype='object', name=0, length=323)\n"
     ]
    }
   ],
   "source": [
    "properties_t.rename(columns = {properties_t.columns[0]:'London Borough', properties_t.columns[1]:'ID'}, inplace=True)\n",
    "print(properties_t.columns)"
   ]
  },
  {
   "cell_type": "markdown",
   "metadata": {
    "colab_type": "text",
    "id": "jy8BzXHmoWEw"
   },
   "source": [
    "**2.4.Transforming the data**\n",
    "\n",
    "Remember what Wes McKinney said about tidy data? \n",
    "\n",
    "You might need to **melt** your DataFrame here. "
   ]
  },
  {
   "cell_type": "code",
   "execution_count": 6,
   "metadata": {
    "colab": {},
    "colab_type": "code",
    "id": "S2wM0qLuo2Zt"
   },
   "outputs": [
    {
     "name": "stdout",
     "output_type": "stream",
     "text": [
      "       London Borough         ID      Month Average_price\n",
      "0      City of London  E09000001 1995-01-01   91448.98487\n",
      "1  Barking & Dagenham  E09000002 1995-01-01    50460.2266\n",
      "2              Barnet  E09000003 1995-01-01   93284.51832\n",
      "3              Bexley  E09000004 1995-01-01   64958.09036\n",
      "4               Brent  E09000005 1995-01-01   71306.56698\n",
      "London Borough            object\n",
      "ID                        object\n",
      "Month             datetime64[ns]\n",
      "Average_price             object\n",
      "dtype: object\n"
     ]
    }
   ],
   "source": [
    "properties_tall = properties_t.melt(id_vars=['London Borough', 'ID'], var_name='Month', value_name='Average_price')\n",
    "print(properties_tall.head())\n",
    "print(properties_tall.dtypes)"
   ]
  },
  {
   "cell_type": "markdown",
   "metadata": {
    "colab_type": "text",
    "id": "7kIsgAo7o3mf"
   },
   "source": [
    "Remember to make sure your column data types are all correct. Average prices, for example, should be floating point numbers... "
   ]
  },
  {
   "cell_type": "code",
   "execution_count": 7,
   "metadata": {
    "colab": {},
    "colab_type": "code",
    "id": "ZcR4IHbcpOaq"
   },
   "outputs": [
    {
     "name": "stdout",
     "output_type": "stream",
     "text": [
      "London Borough            object\n",
      "ID                        object\n",
      "Month             datetime64[ns]\n",
      "Average_price            float64\n",
      "dtype: object\n"
     ]
    }
   ],
   "source": [
    "#Convert Average Price columns to numeric\n",
    "properties_tall['Average_price'] = pd.to_numeric(properties_tall['Average_price'], errors='coerce')\n",
    "print(properties_tall.dtypes)"
   ]
  },
  {
   "cell_type": "markdown",
   "metadata": {
    "colab_type": "text",
    "id": "knLUXHLypOtw"
   },
   "source": [
    "**2.5. Cleaning the data (part 3)**\n",
    "\n",
    "Do we have an equal number of observations in the ID, Average Price, Month, and London Borough columns? Remember that there are only 32 London Boroughs. How many entries do you have in that column? \n",
    "\n",
    "Check out the contents of the London Borough column, and if you find null values, get rid of them however you see fit. "
   ]
  },
  {
   "cell_type": "code",
   "execution_count": 8,
   "metadata": {
    "colab": {},
    "colab_type": "code",
    "id": "BnvTW5a3p0fC"
   },
   "outputs": [
    {
     "name": "stdout",
     "output_type": "stream",
     "text": [
      "London Borough    15408\n",
      "ID                14445\n",
      "Month             15408\n",
      "Average_price     14442\n",
      "dtype: int64\n",
      "London Borough    False\n",
      "ID                 True\n",
      "Month             False\n",
      "Average_price      True\n",
      "dtype: bool\n",
      "London Borough    14442\n",
      "ID                14442\n",
      "Month             14442\n",
      "Average_price     14442\n",
      "dtype: int64\n",
      "London Borough    False\n",
      "ID                False\n",
      "Month             False\n",
      "Average_price     False\n",
      "dtype: bool\n",
      "Lewisham                321\n",
      "Merton                  321\n",
      "Redbridge               321\n",
      "Richmond upon Thames    321\n",
      "Southwark               321\n",
      "Sutton                  321\n",
      "Tower Hamlets           321\n",
      "Waltham Forest          321\n",
      "Wandsworth              321\n",
      "Westminster             321\n",
      "Inner London            321\n",
      "Outer London            321\n",
      "NORTH EAST              321\n",
      "NORTH WEST              321\n",
      "YORKS & THE HUMBER      321\n",
      "EAST MIDLANDS           321\n",
      "WEST MIDLANDS           321\n",
      "EAST OF ENGLAND         321\n",
      "LONDON                  321\n",
      "SOUTH EAST              321\n",
      "SOUTH WEST              321\n",
      "Newham                  321\n",
      "England                 321\n",
      "Barking & Dagenham      321\n",
      "Lambeth                 321\n",
      "Barnet                  321\n",
      "Bexley                  321\n",
      "Brent                   321\n",
      "Bromley                 321\n",
      "Camden                  321\n",
      "Croydon                 321\n",
      "Ealing                  321\n",
      "Enfield                 321\n",
      "Greenwich               321\n",
      "Hackney                 321\n",
      "Hammersmith & Fulham    321\n",
      "Haringey                321\n",
      "Harrow                  321\n",
      "Havering                321\n",
      "Hillingdon              321\n",
      "Hounslow                321\n",
      "Islington               321\n",
      "Kensington & Chelsea    321\n",
      "Kingston upon Thames    321\n",
      "City of London          318\n",
      "Name: London Borough, dtype: int64\n",
      "45\n"
     ]
    }
   ],
   "source": [
    "print(properties_tall.count())\n",
    "print(properties_tall.isna().any())\n",
    "\n",
    "properties_nona = properties_tall.dropna()\n",
    "print(properties_nona.count())\n",
    "print(properties_nona.isna().any())\n",
    "\n",
    "print(properties_nona['London Borough'].value_counts())\n",
    "print(properties_nona['London Borough'].value_counts().size)"
   ]
  },
  {
   "cell_type": "code",
   "execution_count": 9,
   "metadata": {},
   "outputs": [
    {
     "name": "stdout",
     "output_type": "stream",
     "text": [
      "33\n"
     ]
    }
   ],
   "source": [
    "notborough = ['Inner London', 'Outer London', 'NORTH EAST', 'NORTH WEST', 'YORKS & THE HUMBER', 'EAST MIDLANDS', 'WEST MIDLANDS', \\\n",
    "                    'EAST OF ENGLAND', 'LONDON', 'SOUTH EAST', 'SOUTH WEST', 'England']\n",
    "properties_b = properties_nona[~properties_nona['London Borough'].isin(notborough)]\n",
    "print(len(properties_b['London Borough'].unique()))"
   ]
  },
  {
   "cell_type": "markdown",
   "metadata": {
    "colab_type": "text",
    "id": "PGEx6mJsp6dG"
   },
   "source": [
    "**2.6. Visualizing the data**\n",
    "\n",
    "To visualize the data, why not subset on a particular London Borough? Maybe do a line plot of Month against Average Price?"
   ]
  },
  {
   "cell_type": "code",
   "execution_count": 10,
   "metadata": {
    "colab": {},
    "colab_type": "code",
    "id": "nAg5pT9cqHAR"
   },
   "outputs": [
    {
     "data": {
      "image/png": "[encoded data removed]",
      "text/plain": [
       "<Figure size 432x288 with 1 Axes>"
      ]
     },
     "metadata": {
      "needs_background": "light"
     },
     "output_type": "display_data"
    }
   ],
   "source": [
    "properties_b[properties_b['London Borough']=='Redbridge'].plot(kind='line', x='Month', y='Average_price')\n",
    "\n",
    "##Clean up the labels, give a title, etc here\n",
    "\n",
    "plt.show()"
   ]
  },
  {
   "cell_type": "markdown",
   "metadata": {
    "colab_type": "text",
    "id": "aWTPqSJeqHnC"
   },
   "source": [
    "To limit the number of data points you have, you might want to extract the year from every month value your *Month* column. \n",
    "\n",
    "To this end, you *could* apply a ***lambda function***. Your logic could work as follows:\n",
    "1. look through the `Month` column\n",
    "2. extract the year from each individual value in that column \n",
    "3. store that corresponding year as separate column. \n",
    "\n",
    "Whether you go ahead with this is up to you. Just so long as you answer our initial brief: which boroughs of London have seen the greatest house price increase, on average, over the past two decades? "
   ]
  },
  {
   "cell_type": "code",
   "execution_count": 11,
   "metadata": {
    "colab": {},
    "colab_type": "code",
    "id": "e0DF92cyqnu8"
   },
   "outputs": [
    {
     "name": "stdout",
     "output_type": "stream",
     "text": [
      "0    1995\n",
      "1    1995\n",
      "2    1995\n",
      "3    1995\n",
      "4    1995\n",
      "Name: year, dtype: int64\n",
      "       London Borough  year  Average_price\n",
      "0  Barking & Dagenham  1995   51817.969390\n",
      "1  Barking & Dagenham  1996   51718.192690\n",
      "2  Barking & Dagenham  1997   55974.262309\n",
      "3  Barking & Dagenham  1998   60285.821083\n",
      "4  Barking & Dagenham  1999   65320.934441\n"
     ]
    },
    {
     "name": "stderr",
     "output_type": "stream",
     "text": [
      "C:\\Users\\Max\\AppData\\Local\\Temp/ipykernel_22548/3982239174.py:1: SettingWithCopyWarning: \n",
      "A value is trying to be set on a copy of a slice from a DataFrame.\n",
      "Try using .loc[row_indexer,col_indexer] = value instead\n",
      "\n",
      "See the caveats in the documentation: https://pandas.pydata.org/pandas-docs/stable/user_guide/indexing.html#returning-a-view-versus-a-copy\n",
      "  properties_b['year'] = properties_b['Month'].apply(lambda x: x.year)\n"
     ]
    },
    {
     "data": {
      "image/png": "[encoded data removed]",
      "text/plain": [
       "<Figure size 432x288 with 1 Axes>"
      ]
     },
     "metadata": {
      "needs_background": "light"
     },
     "output_type": "display_data"
    }
   ],
   "source": [
    "properties_b['year'] = properties_b['Month'].apply(lambda x: x.year)\n",
    "print(properties_b['year'].head())\n",
    "\n",
    "properties_annual = properties_b.groupby(['London Borough', 'year'], as_index=False)['Average_price'].mean()\n",
    "print(properties_annual.head())\n",
    "\n",
    "properties_annual[properties_annual['London Borough']=='Redbridge'].plot(kind='line', x='year', y='Average_price')\n",
    "\n",
    "##Clean up the labels, give a title, etc here\n",
    "\n",
    "plt.show()"
   ]
  },
  {
   "cell_type": "markdown",
   "metadata": {
    "colab_type": "text",
    "id": "2knuTxAEqoJ4"
   },
   "source": [
    "**3. Modeling**\n",
    "\n",
    "Consider creating a function that will calculate a ratio of house prices, comparing the price of a house in 2018 to the price in 1998.\n",
    "\n",
    "Consider calling this function create_price_ratio.\n",
    "\n",
    "You'd want this function to:\n",
    "1. Take a filter of dfg, specifically where this filter constrains the London_Borough, as an argument. For example, one admissible argument should be: dfg[dfg['London_Borough']=='Camden'].\n",
    "2. Get the Average Price for that Borough, for the years 1998 and 2018.\n",
    "4. Calculate the ratio of the Average Price for 1998 divided by the Average Price for 2018.\n",
    "5. Return that ratio.\n",
    "\n",
    "Once you've written this function, you ultimately want to use it to iterate through all the unique London_Boroughs and work out the ratio capturing the difference of house prices between 1998 and 2018.\n",
    "\n",
    "Bear in mind: you don't have to write a function like this if you don't want to. If you can solve the brief otherwise, then great! \n",
    "\n",
    "***Hint***: This section should test the skills you acquired in:\n",
    "- Python Data Science Toolbox - Part One, all modules"
   ]
  },
  {
   "cell_type": "code",
   "execution_count": null,
   "metadata": {},
   "outputs": [],
   "source": []
  },
  {
   "cell_type": "code",
   "execution_count": 39,
   "metadata": {},
   "outputs": [
    {
     "name": "stdout",
     "output_type": "stream",
     "text": [
      "Barking & Dagenham    3.8961309290034536\n",
      "Barnet    3.130526809007584\n",
      "Bexley    3.3245075326616718\n",
      "Brent    3.446670779724697\n",
      "Bromley    2.941011940274816\n",
      "Camden    3.358211634121892\n",
      "City of London    3.792678220147692\n",
      "Croydon    3.1570429428061266\n",
      "Ealing    3.128507691877485\n",
      "Enfield    3.2501203164980446\n",
      "Greenwich    3.5891974687052866\n",
      "Hackney    4.387149599666481\n",
      "Hammersmith & Fulham    2.9459947465596765\n",
      "Haringey    3.833315610643174\n",
      "Harrow    2.9728667890228726\n",
      "Havering    3.3843558032905743\n",
      "Hillingdon    3.1181360265778104\n",
      "Hounslow    3.0030285097705134\n",
      "Islington    3.440534747930312\n",
      "Kensington & Chelsea    3.520050651196418\n",
      "Kingston upon Thames    3.0116761858514103\n",
      "Lambeth    3.5682621912735293\n",
      "Lewisham    3.949339264907722\n",
      "Merton    3.4552624619201273\n",
      "Newham    3.9987452337591614\n",
      "Redbridge    3.403226921973981\n",
      "Richmond upon Thames    2.9883558327912914\n",
      "Southwark    3.590928824874734\n",
      "Sutton    3.00284838376023\n",
      "Tower Hamlets    3.2870040759564683\n",
      "Waltham Forest    4.367751540605058\n",
      "Wandsworth    3.3189961882319925\n",
      "Westminster    3.6871316477404066\n",
      "{'Barking & Dagenham': 3.8961309290034536, 'Barnet': 3.130526809007584, 'Bexley': 3.3245075326616718, 'Brent': 3.446670779724697, 'Bromley': 2.941011940274816, 'Camden': 3.358211634121892, 'City of London': 3.792678220147692, 'Croydon': 3.1570429428061266, 'Ealing': 3.128507691877485, 'Enfield': 3.2501203164980446, 'Greenwich': 3.5891974687052866, 'Hackney': 4.387149599666481, 'Hammersmith & Fulham': 2.9459947465596765, 'Haringey': 3.833315610643174, 'Harrow': 2.9728667890228726, 'Havering': 3.3843558032905743, 'Hillingdon': 3.1181360265778104, 'Hounslow': 3.0030285097705134, 'Islington': 3.440534747930312, 'Kensington & Chelsea': 3.520050651196418, 'Kingston upon Thames': 3.0116761858514103, 'Lambeth': 3.5682621912735293, 'Lewisham': 3.949339264907722, 'Merton': 3.4552624619201273, 'Newham': 3.9987452337591614, 'Redbridge': 3.403226921973981, 'Richmond upon Thames': 2.9883558327912914, 'Southwark': 3.590928824874734, 'Sutton': 3.00284838376023, 'Tower Hamlets': 3.2870040759564683, 'Waltham Forest': 4.367751540605058, 'Wandsworth': 3.3189961882319925, 'Westminster': 3.6871316477404066}\n"
     ]
    }
   ],
   "source": [
    "def create_price_ratio(df, year1, year2):\n",
    "    price1 = df['Average_price'][df['year']==year1].values[0]\n",
    "    price2 = df['Average_price'][df['year']==year2].values[0]\n",
    "    return price2/price1\n",
    "\n",
    "ratio_list = {}\n",
    "for name in properties_annual['London Borough'].unique() :\n",
    "    ratio = create_price_ratio(properties_annual[properties_annual['London Borough']==name], 2000, 2020)\n",
    "    ratio_list[name]=ratio\n",
    "    print(name + '    ' + str(ratio))\n",
    "    \n",
    "print(ratio_list)"
   ]
  },
  {
   "cell_type": "code",
   "execution_count": 12,
   "metadata": {
    "colab": {},
    "colab_type": "code",
    "id": "cKTyr437UgDa",
    "scrolled": false
   },
   "outputs": [
    {
     "name": "stdout",
     "output_type": "stream",
     "text": [
      "                      2000 Avg House Price £ GBP  2020 Avg House Price £ GBP  \\\n",
      "London Borough                                                                 \n",
      "Hackney                               132727.506                  582295.425   \n",
      "Waltham Forest                        103030.677                  450012.396   \n",
      "Newham                                 92887.329                  371432.765   \n",
      "Lewisham                              107082.680                  422905.833   \n",
      "Barking & Dagenham                     77549.513                  302143.057   \n",
      "Haringey                              145997.086                  559652.907   \n",
      "City of London                        218679.026                  829379.177   \n",
      "Westminster                           260492.250                  960469.219   \n",
      "Southwark                             142266.729                  510869.698   \n",
      "Greenwich                             110162.975                  395396.672   \n",
      "Lambeth                               148038.778                  528241.174   \n",
      "Kensington & Chelsea                  376802.248                 1326362.998   \n",
      "Merton                                151605.431                  523836.555   \n",
      "Brent                                 140962.500                  485851.331   \n",
      "Islington                             192634.092                  662764.287   \n",
      "Redbridge                             124379.142                  423290.445   \n",
      "Havering                              109432.774                  370359.444   \n",
      "Camden                                247114.634                  829863.237   \n",
      "Bexley                                103186.665                  343044.846   \n",
      "Wandsworth                            184275.835                  611610.795   \n",
      "Tower Hamlets                         141287.778                  464413.503   \n",
      "Enfield                               121839.207                  395992.081   \n",
      "Croydon                               118777.304                  374985.051   \n",
      "Barnet                                167952.634                  525780.223   \n",
      "Ealing                                153309.280                  479629.262   \n",
      "Hillingdon                            131432.235                  409823.588   \n",
      "Kingston upon Thames                  162805.826                  490318.429   \n",
      "Hounslow                              136624.858                  410288.343   \n",
      "Sutton                                125952.048                  378214.902   \n",
      "Richmond upon Thames                  227866.164                  680945.181   \n",
      "Harrow                                152494.291                  453345.213   \n",
      "Hammersmith & Fulham                  247266.224                  728444.996   \n",
      "Bromley                               147826.713                  434760.129   \n",
      "\n",
      "                      ratio  \n",
      "London Borough               \n",
      "Hackney               4.387  \n",
      "Waltham Forest        4.368  \n",
      "Newham                3.999  \n",
      "Lewisham              3.949  \n",
      "Barking & Dagenham    3.896  \n",
      "Haringey              3.833  \n",
      "City of London        3.793  \n",
      "Westminster           3.687  \n",
      "Southwark             3.591  \n",
      "Greenwich             3.589  \n",
      "Lambeth               3.568  \n",
      "Kensington & Chelsea  3.520  \n",
      "Merton                3.455  \n",
      "Brent                 3.447  \n",
      "Islington             3.441  \n",
      "Redbridge             3.403  \n",
      "Havering              3.384  \n",
      "Camden                3.358  \n",
      "Bexley                3.325  \n",
      "Wandsworth            3.319  \n",
      "Tower Hamlets         3.287  \n",
      "Enfield               3.250  \n",
      "Croydon               3.157  \n",
      "Barnet                3.131  \n",
      "Ealing                3.129  \n",
      "Hillingdon            3.118  \n",
      "Kingston upon Thames  3.012  \n",
      "Hounslow              3.003  \n",
      "Sutton                3.003  \n",
      "Richmond upon Thames  2.988  \n",
      "Harrow                2.973  \n",
      "Hammersmith & Fulham  2.946  \n",
      "Bromley               2.941  \n"
     ]
    }
   ],
   "source": [
    "#we're doing this for 2000 to 2020, the last two decades for which we have a full year of housing data\n",
    "\n",
    "psummary = properties_b.loc[((properties_b['year']==2000) | (properties_b['year']==2020)), ['London Borough', 'Average_price', 'year']]\n",
    "psummary_pivot = psummary.pivot_table(index='London Borough', columns = 'year', values='Average_price')\n",
    "\n",
    "psummary_pivot['ratio'] = psummary_pivot[2020]/psummary_pivot[2000]\n",
    "\n",
    "psummary_sorted = psummary_pivot.sort_values('ratio', ascending=False)\n",
    "\n",
    "psummary_pivot.columns.name=None\n",
    "psummary_final = psummary_sorted.rename(columns = {2000:'2000 Avg House Price £ GBP', 2020:'2020 Avg House Price £ GBP'})\n",
    "print(psummary_final.round(3))"
   ]
  },
  {
   "cell_type": "markdown",
   "metadata": {
    "colab_type": "text",
    "id": "NzYUI7FxJpgv"
   },
   "source": [
    "### 4. Conclusion\n",
    "What can you conclude? Type out your conclusion below. \n",
    "\n",
    "Look back at your notebook. Think about how you might summarize what you have done, and prepare a quick presentation on it to your mentor at your next meeting. \n",
    "\n",
    "We hope you enjoyed this practical project. It should have consolidated your data hygiene and pandas skills by looking at a real-world problem involving just the kind of dataset you might encounter as a budding data scientist. Congratulations, and looking forward to seeing you at the next step in the course! "
   ]
  }
 ],
 "metadata": {
  "colab": {
   "collapsed_sections": [],
   "name": "Springboard Data Science Career Track Unit 4 Challenge - Tier 3 Complete .ipynb",
   "provenance": []
  },
  "kernelspec": {
   "display_name": "Python 3 (ipykernel)",
   "language": "python",
   "name": "python3"
  },
  "language_info": {
   "codemirror_mode": {
    "name": "ipython",
    "version": 3
   },
   "file_extension": ".py",
   "mimetype": "text/x-python",
   "name": "python",
   "nbconvert_exporter": "python",
   "pygments_lexer": "ipython3",
   "version": "3.9.7"
  }
 },
 "nbformat": 4,
 "nbformat_minor": 1
}
